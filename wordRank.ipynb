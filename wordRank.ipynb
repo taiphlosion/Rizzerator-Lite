{
 "cells": [
  {
   "attachments": {},
   "cell_type": "markdown",
   "metadata": {},
   "source": [
    "# **Rizzlite Word Ranking**"
   ]
  },
  {
   "attachments": {},
   "cell_type": "markdown",
   "metadata": {},
   "source": [
    "## **Preprocess Manually Ranked Sentences**"
   ]
  },
  {
   "attachments": {},
   "cell_type": "markdown",
   "metadata": {},
   "source": [
    "### Import necessary libraries"
   ]
  },
  {
   "cell_type": "code",
   "execution_count": 1,
   "metadata": {},
   "outputs": [
    {
     "name": "stderr",
     "output_type": "stream",
     "text": [
      "[nltk_data] Downloading package stopwords to\n",
      "[nltk_data]     /Users/skylerestavillo/nltk_data...\n",
      "[nltk_data]   Package stopwords is already up-to-date!\n"
     ]
    }
   ],
   "source": [
    "import requests\n",
    "import pandas as pd\n",
    "import random\n",
    "import csv\n",
    "import re\n",
    "import contractions\n",
    "from random import uniform\n",
    "import nltk\n",
    "nltk.download('stopwords')\n",
    "from nltk.corpus import stopwords"
   ]
  },
  {
   "attachments": {},
   "cell_type": "markdown",
   "metadata": {},
   "source": [
    "### Create personalized list of stop words, which will be set to neutral score"
   ]
  },
  {
   "cell_type": "code",
   "execution_count": 2,
   "metadata": {},
   "outputs": [],
   "source": [
    "# Create personalized list of stop words\n",
    "stop_words = [ \"of\", \"should\", \"not\", \"are\", \"i\", \"her\", \"here\", \"their\", \"again\", \"can\", \"above\", \"these\", \"will\", \"all\", \n",
    "\"them\", \"has\", \"she\", \"him\", \"his\", \"itself\", \"it\", \"is\", \"out\", \"had\", \"he\", \"hers\", \"because\", \"were\", \"than\", \"not\",\n",
    "\"and\", \"under\", \"during\", \"into\", \"am\", \"have\", \"yours\", \"a\", \"some\", \"have\", \"has\", \"ours\", \"or\", \"by\", \"our\", \"at\",\n",
    "\"on\", \"same\", \"you\", \"does\", \"was\", \"did\", \"theirs\", \"herself\", \"himself\",\n",
    "\"does\", \"they\", \"up\", \"between\", \"such\", \"both\", \"nor\", \"having\", \"are\", \"an\", \"no\", \"ain't\", \"as\", \"before\", \"with\",\n",
    "\"have\", \"other\", \"she\", \"in\", \"for\", \"themselves\", \"do\", \"the\", \"against\", \"so\", \"ourselves\", \"to\", \"did\",\n",
    "\"doing\", \"each\", \"been\", \"has\", \"after\", \"off\", \"but\", \"through\", \"it\", \"this\", \"own\",\n",
    "\"any\", \"now\", \"if\", \"while\", \"down\", \"only\", \"being\", \"my\", \"had\", \"we\", \"then\", \"until\", \"from\",\n",
    "\"further\", \"there\", \"that\", \"went\", \"those\"]\n",
    "\n",
    "word_scores = {}\n",
    "\n",
    "for word in set(stop_words):\n",
    "    word_scores[word] = 3"
   ]
  },
  {
   "attachments": {},
   "cell_type": "markdown",
   "metadata": {},
   "source": [
    "### Define function to preprocess sentences"
   ]
  },
  {
   "cell_type": "code",
   "execution_count": 3,
   "metadata": {},
   "outputs": [],
   "source": [
    "# Define a function to preprocess each sentence\n",
    "def preprocess_sentence(sentence):\n",
    "    # Convert the input to a string and then to lowercase\n",
    "    sentence = str(sentence).lower()\n",
    "    \n",
    "    # Remove words containing numbers from the sentence\n",
    "    sentence = re.sub(r'\\b\\w*\\d\\w*\\b', '', sentence)\n",
    "    \n",
    "    # Break apart contractions using the contractions library\n",
    "    sentence = contractions.fix(sentence)\n",
    "    \n",
    "    # Remove all non-alphabetic characters from the sentence\n",
    "    sentence = re.sub(r'[^a-zA-Z\\s]', '', sentence)\n",
    "    \n",
    "    # Ensure the sentence is returned as a string of words\n",
    "    sentence = ' '.join(sentence.split())\n",
    "    \n",
    "    return sentence"
   ]
  },
  {
   "attachments": {},
   "cell_type": "markdown",
   "metadata": {},
   "source": [
    "### Read csv file, preprocess, and set scores"
   ]
  },
  {
   "cell_type": "code",
   "execution_count": 4,
   "metadata": {},
   "outputs": [
    {
     "name": "stdout",
     "output_type": "stream",
     "text": [
      "    id language                                   Sentence  Score Unnamed: 4\n",
      "0  0.0      eng                       let us try something    3.5        NaN\n",
      "1  1.0      eng                      i have to go to sleep    3.7        NaN\n",
      "2  2.0      eng  today is june and it is muiriels birthday    4.2        NaN\n",
      "3  3.0      eng                             muiriel is now    4.8        NaN\n",
      "4  4.0      eng                    the password is muiriel    4.8        NaN\n"
     ]
    }
   ],
   "source": [
    "# Read in the csv file\n",
    "df = pd.read_csv('SentenceCorpus.csv')\n",
    "\n",
    "\n",
    "# Preprocess each sentence in the 'Sentence' column\n",
    "df['Sentence'] = df['Sentence'].apply(preprocess_sentence)\n",
    "\n",
    "# Print the updated dataframe\n",
    "print(df.head())\n",
    "\n",
    "# Define a function to tokenize a sentence and return a list of words\n",
    "def tokenize(sentence):\n",
    "    return sentence.split()\n",
    "\n",
    "# Update the word_scores dictionary with words and their scores\n",
    "for index, row in df.iterrows():\n",
    "    sentence = row['Sentence']\n",
    "    score = row['Score']\n",
    "    words = tokenize(sentence)\n",
    "\n",
    "    # If its a new non stop word, add it to the dictionary\n",
    "    # If we've seen it before, append the new score to the list of scores\n",
    "    for word in words:\n",
    "        if word not in stop_words:\n",
    "            if word not in word_scores:\n",
    "                word_scores[word] = [score]\n",
    "            else:\n",
    "                word_scores[word].append(score)\n",
    "\n",
    "# Calculate the average score for each word\n",
    "word_final_scores = {}\n",
    "for word, scores in word_scores.items():\n",
    "    if isinstance(scores, list):\n",
    "        word_final_scores[word] = sum(scores) / len(scores)\n",
    "    else:\n",
    "        word_final_scores[word] = scores"
   ]
  },
  {
   "attachments": {},
   "cell_type": "markdown",
   "metadata": {},
   "source": [
    "### Test our dictionary"
   ]
  },
  {
   "cell_type": "code",
   "execution_count": 5,
   "metadata": {},
   "outputs": [
    {
     "name": "stdout",
     "output_type": "stream",
     "text": [
      "Total words in the dictionary: 2617\n",
      "handsome: 5.0\n",
      "won: 4.15\n",
      "analysis: 2.5\n",
      "travel: 2.8666666666666667\n",
      "infirmary: 3.8\n",
      "arrived: 3.85\n",
      "here: 3\n",
      "criticism: 5.0\n",
      "letter: 1.7333333333333334\n",
      "glasses: 3.5666666666666664\n"
     ]
    }
   ],
   "source": [
    "# Print the count of all words in the dictionary\n",
    "print(f\"Total words in the dictionary: {len(word_final_scores)}\")\n",
    "\n",
    "# Print 10 random words in the dictionary with their associated scores\n",
    "random_words = random.sample(list(word_final_scores.items()), 10)\n",
    "for word, score in random_words:\n",
    "    print(f\"{word}: {score}\")"
   ]
  },
  {
   "attachments": {},
   "cell_type": "markdown",
   "metadata": {},
   "source": [
    "### Define API Request Functions"
   ]
  },
  {
   "cell_type": "code",
   "execution_count": 66,
   "metadata": {},
   "outputs": [],
   "source": [
    "API_KEY = \"YOUR KEY HERE\"\n",
    "\n",
    "# Define synonym API request\n",
    "def get_synonyms(word):\n",
    "    url = f\"https://wordsapiv1.p.rapidapi.com/words/{word}/synonyms\"\n",
    "    headers = {\n",
    "        \"content-type\": \"application/octet-stream\",\n",
    "        \"X-RapidAPI-Key\": API_KEY,\n",
    "        \"X-RapidAPI-Host\": \"wordsapiv1.p.rapidapi.com\"\n",
    "    }\n",
    "    response = requests.get(url, headers=headers)\n",
    "    return response.json().get('synonyms', [])\n",
    "\n",
    "\n",
    "# Definition definition API request\n",
    "def get_definition(word):\n",
    "    url = f\"https://wordsapiv1.p.rapidapi.com/words/{word}/definitions\"\n",
    "    headers = {\n",
    "        \"content-type\": \"application/octet-stream\",\n",
    "        \"X-RapidAPI-Key\": API_KEY,\n",
    "        \"X-RapidAPI-Host\": \"wordsapiv1.p.rapidapi.com\"\n",
    "    }\n",
    "    response = requests.get(url, headers=headers)\n",
    "    return response.json().get('definitions', [])"
   ]
  },
  {
   "attachments": {},
   "cell_type": "markdown",
   "metadata": {},
   "source": [
    "## Grow Dataset with Synonyms and Definitions From API Calls"
   ]
  },
  {
   "cell_type": "code",
   "execution_count": 68,
   "metadata": {},
   "outputs": [],
   "source": [
    "# Import model\n",
    "from gensim.models import Word2Vec\n",
    "import gensim.downloader as api\n",
    "from gensim.models import KeyedVectors\n",
    "\n",
    "glove_model = api.load('glove-twitter-200')"
   ]
  },
  {
   "attachments": {},
   "cell_type": "markdown",
   "metadata": {},
   "source": [
    "### Functions to save progress into dictionary"
   ]
  },
  {
   "cell_type": "code",
   "execution_count": 6,
   "metadata": {},
   "outputs": [],
   "source": [
    "def save_word_final_scores_to_csv():\n",
    "    with open('word_scores.csv', 'w', newline='') as csvfile:\n",
    "        fieldnames = ['Word', 'Score']\n",
    "        writer = csv.DictWriter(csvfile, fieldnames=fieldnames)\n",
    "        writer.writeheader()\n",
    "        for word, score in word_final_scores.items():\n",
    "            writer.writerow({'Word': word, 'Score': score})\n",
    "    print(\"Progress saved to word_scores.csv\")\n"
   ]
  },
  {
   "attachments": {},
   "cell_type": "markdown",
   "metadata": {},
   "source": [
    "### Call Function to Save Progress Along the Way"
   ]
  },
  {
   "cell_type": "code",
   "execution_count": null,
   "metadata": {},
   "outputs": [],
   "source": [
    "save_word_final_scores_to_csv()"
   ]
  },
  {
   "attachments": {},
   "cell_type": "markdown",
   "metadata": {},
   "source": [
    "### Define/Redefine global variables and re-read data into them from previous iterations"
   ]
  },
  {
   "cell_type": "code",
   "execution_count": 7,
   "metadata": {},
   "outputs": [],
   "source": [
    "called_words = set()\n",
    "used_words = set()"
   ]
  },
  {
   "attachments": {},
   "cell_type": "markdown",
   "metadata": {},
   "source": [
    "Call the read function only if you've built the necessary csv files (called below in random_k function)"
   ]
  },
  {
   "attachments": {},
   "cell_type": "markdown",
   "metadata": {},
   "source": [
    "#### Read function"
   ]
  },
  {
   "cell_type": "code",
   "execution_count": 8,
   "metadata": {},
   "outputs": [],
   "source": [
    "used_words.clear()\n",
    "called_words.clear()\n",
    "\n",
    "# Read used_words back into the used_words set\n",
    "with open(\"used_words.csv\", \"r\", newline=\"\", encoding=\"utf-8\") as csvfile:\n",
    "    csv_reader = csv.reader(csvfile)\n",
    "    next(csv_reader)  # Skip the header\n",
    "    used_words = {row[0] for row in csv_reader}\n",
    "\n",
    "# Read called_words back into the called_words set\n",
    "with open(\"called_words.csv\", \"r\", newline=\"\", encoding=\"utf-8\") as csvfile:\n",
    "    csv_reader = csv.reader(csvfile)\n",
    "    next(csv_reader)  # Skip the header\n",
    "    called_words = {row[0] for row in csv_reader}"
   ]
  },
  {
   "attachments": {},
   "cell_type": "markdown",
   "metadata": {},
   "source": [
    "#### Write function"
   ]
  },
  {
   "cell_type": "code",
   "execution_count": null,
   "metadata": {},
   "outputs": [],
   "source": [
    "# Write used_words to CSV file\n",
    "with open(\"used_words.csv\", \"w\", newline=\"\", encoding=\"utf-8\") as csvfile:\n",
    "    csv_writer = csv.writer(csvfile)\n",
    "    csv_writer.writerow([\"Word\"])\n",
    "    for word in used_words:\n",
    "        csv_writer.writerow([word])\n",
    "\n",
    "# Write called_words to CSV file\n",
    "with open(\"called_words.csv\", \"w\", newline=\"\", encoding=\"utf-8\") as csvfile:\n",
    "    csv_writer = csv.writer(csvfile)\n",
    "    csv_writer.writerow([\"Word\"])\n",
    "    for word in called_words:\n",
    "        csv_writer.writerow([word])"
   ]
  },
  {
   "attachments": {},
   "cell_type": "markdown",
   "metadata": {},
   "source": [
    "### Re-read values into our dictionary obtained from previous iterations (if created)"
   ]
  },
  {
   "cell_type": "code",
   "execution_count": 9,
   "metadata": {},
   "outputs": [],
   "source": [
    "word_final_scores.clear()\n",
    "\n",
    "# Read word_scores.csv file\n",
    "df = pd.read_csv(\"word_scores.csv\")\n",
    "\n",
    "# Preprocess the data\n",
    "df[\"Word\"] = df[\"Word\"].astype(str)\n",
    "df = df[df[\"Word\"].apply(lambda x: not any(char.isdigit() for char in x))]\n",
    "df[\"Word\"] = df[\"Word\"].apply(lambda x: re.sub(r'[^ \\w+]', '', x))  # Remove non-alphanumeric characters except spaces\n",
    "df = df[df[\"Word\"] != \"\"]  # Remove rows with empty strings\n",
    "df[\"Word\"] = df[\"Word\"].apply(lambda x: x.lower())  # Convert the word to lowercase\n",
    "\n",
    "\n",
    "\n",
    "# Add words and scores to the word_final_scores dictionary\n",
    "for index, row in df.iterrows():\n",
    "    word_final_scores[row[\"Word\"]] = row[\"Score\"]\n",
    "\n",
    "\n",
    "# Add words and scores to the word_scores dictionary!!\n",
    "# !! This is the dictionary that is clean and will generate random words\n",
    "for index, row in df.iterrows():\n",
    "    word_scores[row[\"Word\"]] = row[\"Score\"]"
   ]
  },
  {
   "attachments": {},
   "cell_type": "markdown",
   "metadata": {},
   "source": [
    "### Function to clean definition words and synonyms from API calls"
   ]
  },
  {
   "cell_type": "code",
   "execution_count": 10,
   "metadata": {},
   "outputs": [],
   "source": [
    "def clean_word(word):\n",
    "    if not isinstance(word, str):\n",
    "        word = str(word)\n",
    "    if any(char.isdigit() for char in word):\n",
    "        return None\n",
    "    word = re.sub(r'[^ \\w+]', '', word)  # Remove non-alphanumeric characters except spaces\n",
    "    if word == \"\":\n",
    "        return None\n",
    "    word = word.lower()\n",
    "    return word"
   ]
  },
  {
   "attachments": {},
   "cell_type": "markdown",
   "metadata": {},
   "source": [
    "### **Call the API Function**"
   ]
  },
  {
   "cell_type": "code",
   "execution_count": 104,
   "metadata": {},
   "outputs": [],
   "source": [
    "api_limit = 20000\n",
    "api_calls_made = 13923\n",
    "\n",
    "def k_nearest_neighbors(word, k=10, use_api = True, api_limit=20000):\n",
    "    global api_calls_made, called_words\n",
    "\n",
    "    # Use the Words API to find synonyms if the use_api flag is set to True and the API limit is not exceeded\n",
    "    if use_api and word not in called_words and api_limit > 0 and api_calls_made < api_limit:\n",
    "        # Add the word to the called_words set to prevent duplicate API calls\n",
    "        called_words.add(word)\n",
    "        api_calls_made += 1  # Increment the API calls counter\n",
    "\n",
    "        synonyms = get_synonyms(word)\n",
    "        # If the API returns synonyms, return the list of synonyms\n",
    "        for synonym in synonyms[:k]:\n",
    "            synonym = clean_word(synonym)\n",
    "            if synonym and synonym not in word_final_scores: # if synonym is not none and not in word_final_scores\n",
    "                print(f\"Getting definition for {synonym}\")\n",
    "                api_calls_made += 1  # Increment the API calls counter\n",
    "                # This may return more than 1 definition, so we need to iterate through each definition\n",
    "                definitions = get_definition(synonym)\n",
    "                definition_score = 0 \n",
    "                word_count = 0\n",
    "                new_words = set()  # Initialize a set to store new words found in the definition\n",
    "                for definition in definitions:\n",
    "                    # For words in the definition, check if they are in the word_final_scores dictionary\n",
    "                    for def_word in definition['definition'].split():\n",
    "                        def_word = clean_word(def_word)\n",
    "                        if def_word and def_word in word_final_scores: # if def_word is not none and in word_final_scores\n",
    "                            # If the word is in the dictionary, add the score to the definition score and increment the word count\n",
    "                            definition_score += word_final_scores[def_word]\n",
    "                            # Increment the word count\n",
    "                            word_count += 1\n",
    "                        else:\n",
    "                            definition_score += 3 # Increase by a neutral number if we this word is new\n",
    "                            word_count += 1\n",
    "                            new_words.add(def_word)  # Add the new word to the set for rapid scoring later\n",
    "\n",
    "                # If the definition has more words than 0, calculate the average definition score\n",
    "                if word_count > 0:\n",
    "                    average_definition_score = definition_score / word_count \n",
    "\n",
    "                    # If the definition score is slightly higher than OG word, rank synonym higher\n",
    "                    if average_definition_score > word_final_scores[word]:\n",
    "                        score_adjustment = uniform(0, 0.2) \n",
    "                        new_score = min(5, word_final_scores[word] + score_adjustment)\n",
    "                    # Else, rank the synonym slightly lower\n",
    "                    else:\n",
    "                        score_adjustment = uniform(-0.2, 0)\n",
    "                        new_score = max(1, word_final_scores[word] + score_adjustment)\n",
    "                    \n",
    "                    word_final_scores[synonym] = new_score\n",
    "                    print(f\"Adding word: {synonym} {new_score}\")  # Print the added word and its score\n",
    "\n",
    "                    # For newly encountered words form definition, give them a score close to the synonyms scores\n",
    "                    for new_word in new_words:\n",
    "                        adjusted_new_score = max(1, min(5, new_score + uniform(-0.2, 0.2)))\n",
    "                        word_final_scores[new_word] = adjusted_new_score\n",
    "                        print(f\"Adding word: {new_word} {adjusted_new_score}\")  # Print the added word and its score\n",
    "                # If the definition has no words/no definition returned, assign OG score to the synonym\n",
    "                else:\n",
    "                    word_final_scores[synonym] = word_final_scores[word]\n",
    "                    print(f\"Adding word: {synonym} {word_final_scores[synonym]}\")  # Print the added word and its score\n",
    "                    # Assign the synonym's score to each new word found in the definition\n",
    "                    # Should not happen often, but just in case\n",
    "                    for new_word in new_words:\n",
    "                        word_final_scores[new_word] = word_final_scores[word]\n",
    "                        print(f\"Adding word: {new_word} {word_final_scores[new_word]}\")  # Print the added word and its score\n",
    "    else:\n",
    "        # For a given word, find its first-level neighbors using the GloVe model\n",
    "        first_level_neighbors = glove_model.most_similar(positive=[word], topn=k)\n",
    "\n",
    "        for first_neighbor, _ in first_level_neighbors:\n",
    "            # Find their neighbors (second-level neighbors)\n",
    "            second_level_neighbors = glove_model.most_similar(positive=[first_neighbor], topn=k)\n",
    "            scored_second_level_neighbors = [n for n, _ in second_level_neighbors if n in word_final_scores]\n",
    "\n",
    "            # Calculate the average score of known second-level neighbors\n",
    "            if len(scored_second_level_neighbors) >= 1:\n",
    "                # If the first-level neighbor is not in the word_final_scores dictionary, add it. Otherwise, skip\n",
    "                if first_neighbor not in word_final_scores:\n",
    "                    avg_score = sum(word_final_scores[n] for n in scored_second_level_neighbors) / len(scored_second_level_neighbors)\n",
    "                    word_final_scores[first_neighbor] = avg_score\n",
    "                    print(f\"Adding word: {first_neighbor} {avg_score}\")\n",
    "\n",
    "            unknown_second_level_neighbors = []\n",
    "\n",
    "            # For each unknown second-level neighbor, add it to a list\n",
    "            for second_neighbor, _ in second_level_neighbors:\n",
    "                if second_neighbor not in word_final_scores:\n",
    "                    unknown_second_level_neighbors.append(second_neighbor)\n",
    "\n",
    "            # For each unknown second-level neighbor, find its neighbors (third-level neighbors)\n",
    "            for second_neighbor in unknown_second_level_neighbors:\n",
    "                third_level_neighbors = glove_model.most_similar(positive=[second_neighbor], topn=k)\n",
    "                scored_third_level_neighbors = [n for n, _ in third_level_neighbors if n in word_final_scores]\n",
    "\n",
    "                # Try to score the unknown second-level neighbor\n",
    "                if len(scored_third_level_neighbors) >= 1:\n",
    "                    # If the second-level neighbor is not in the word_final_scores dictionary, add it. Otherwise, skip\n",
    "                    if second_neighbor not in word_final_scores:\n",
    "                        avg_score = sum(word_final_scores[n] for n in scored_third_level_neighbors) / len(scored_third_level_neighbors)\n",
    "                        word_final_scores[second_neighbor] = avg_score\n",
    "                        print(f\"Adding word: {second_neighbor} {avg_score}\")\n",
    "\n",
    "                # Assign each unknown third-level neighbor a score equal to its respective second-level neighbor's score\n",
    "                for third_neighbor, _ in third_level_neighbors:\n",
    "                    if third_neighbor not in word_final_scores:\n",
    "                        # if we know the second neighbor's score, apply it with some noise\n",
    "                        if second_neighbor in word_final_scores:\n",
    "                            adjusted_score = max(1, min(5, word_final_scores[second_neighbor] + uniform(-0.15, 0.15)))\n",
    "                            word_final_scores[third_neighbor] = adjusted_score\n",
    "                            print(f\"Adding word: {third_neighbor} {adjusted_score}\")\n",
    "                        # if we don't know the second neighbor's score, apply the first neighbor's score with some noise\n",
    "                        else:\n",
    "                            adjusted_score = max(1, min(5, word_final_scores[first_neighbor] + uniform(-0.15, 0.15)))\n",
    "                            word_final_scores[third_neighbor] = adjusted_score\n",
    "                            print(f\"Adding word: {third_neighbor} {adjusted_score}\")\n",
    "\n",
    "\n",
    "    return api_calls_made  # Return the number of API calls made\n",
    "\n",
    "\n",
    "\n",
    "\n",
    "\n",
    "def random_word_k_nearest_neighbors():\n",
    "    global api_calls_made\n",
    "    save_interval = 50\n",
    "    iterations = 0\n",
    "\n",
    "    while True:\n",
    "        # Get the list of words found in our clean dictionary that is a non-stop word not in used_words\n",
    "        remaining_words = [word for word in word_scores.keys() if word not in stop_words and word not in used_words]\n",
    "\n",
    "        # Break the loop if there are no remaining words\n",
    "        if not remaining_words:\n",
    "            print(\"No remaining words\")\n",
    "            break\n",
    "\n",
    "        # Select a random non-stop word from the remaining_words list\n",
    "        random_word = random.choice(remaining_words)\n",
    "        used_words.add(random_word)\n",
    "        print(random_word)\n",
    "\n",
    "        # Check if the random_word is in the GloVe vocabulary\n",
    "        if glove_model.has_index_for(random_word):\n",
    "            # Call k_nearest_neighbors with the random word and use_api set to True if we haven't exceeded the API limit\n",
    "            use_api = api_calls_made < api_limit\n",
    "            print(f\"Random word: {random_word}\")\n",
    "            api_calls_made = k_nearest_neighbors(random_word, use_api=use_api)\n",
    "            print(f\"Total API calls: {api_calls_made}\")\n",
    "        else:\n",
    "            print(f\"{random_word} not in GloVe vocabulary\")\n",
    "\n",
    "        iterations += 1\n",
    "\n",
    "        # Print the count of all words in the dictionary\n",
    "        print(f\"Total words in the dictionary: {len(word_final_scores)}\")\n",
    "\n",
    "        # Save the results to the CSV file after every save_interval iterations\n",
    "        if iterations % save_interval == 0:\n",
    "            print(f\"Saving progress after {iterations} iterations\")\n",
    "            save_word_final_scores_to_csv()\n",
    "            # Write used_words to CSV file\n",
    "            with open(\"used_words.csv\", \"w\", newline=\"\", encoding=\"utf-8\") as csvfile:\n",
    "                csv_writer = csv.writer(csvfile)\n",
    "                csv_writer.writerow([\"Word\"])\n",
    "                for word in used_words:\n",
    "                    csv_writer.writerow([word])\n",
    "\n",
    "            # Write called_words to CSV file\n",
    "            with open(\"called_words.csv\", \"w\", newline=\"\", encoding=\"utf-8\") as csvfile:\n",
    "                csv_writer = csv.writer(csvfile)\n",
    "                csv_writer.writerow([\"Word\"])\n",
    "                for word in called_words:\n",
    "                    csv_writer.writerow([word])\n",
    "            \n",
    "\n",
    "        # Break the loop if you want to stop after a certain number of iterations\n",
    "        if len(used_words) >= 80000:\n",
    "            print(\"used more than 80k words\")\n",
    "            break"
   ]
  },
  {
   "attachments": {},
   "cell_type": "markdown",
   "metadata": {},
   "source": [
    "### **Call our function**"
   ]
  },
  {
   "cell_type": "code",
   "execution_count": null,
   "metadata": {},
   "outputs": [],
   "source": [
    "random_word_k_nearest_neighbors()"
   ]
  },
  {
   "attachments": {},
   "cell_type": "markdown",
   "metadata": {},
   "source": [
    "### Save Progress"
   ]
  },
  {
   "cell_type": "code",
   "execution_count": null,
   "metadata": {},
   "outputs": [],
   "source": [
    "print(f\"Saving progress\")\n",
    "save_word_final_scores_to_csv()\n",
    "\n",
    "# Print the count of all words in the dictionary\n",
    "print(f\"Total words in the dictionary: {len(word_final_scores)}\")"
   ]
  },
  {
   "attachments": {},
   "cell_type": "markdown",
   "metadata": {},
   "source": [
    "### Notes\n",
    "    - by this point we accumulated approximately 28,000 words\n",
    "        - this is up from our original list of 2,600\n",
    "        - mostly accomplished through API calls with some GloVe nearest neighbors assistance\n",
    "    - we will now create our own model with a much larger corpus of sentences\n",
    "        -we will then leverage this model to rank the remainder of our words"
   ]
  },
  {
   "attachments": {},
   "cell_type": "markdown",
   "metadata": {},
   "source": [
    "## **Create W2V Model and Rank Remainding Words**"
   ]
  },
  {
   "attachments": {},
   "cell_type": "markdown",
   "metadata": {},
   "source": [
    "### Read used_words and called_words into csv for later reloading"
   ]
  },
  {
   "cell_type": "code",
   "execution_count": 90,
   "metadata": {},
   "outputs": [],
   "source": [
    "# Write used_words to CSV file\n",
    "with open(\"used_words.csv\", \"w\", newline=\"\", encoding=\"utf-8\") as csvfile:\n",
    "    csv_writer = csv.writer(csvfile)\n",
    "    csv_writer.writerow([\"Word\"])\n",
    "    for word in used_words:\n",
    "        csv_writer.writerow([word])\n",
    "\n",
    "# Write called_words to CSV file\n",
    "with open(\"called_words.csv\", \"w\", newline=\"\", encoding=\"utf-8\") as csvfile:\n",
    "    csv_writer = csv.writer(csvfile)\n",
    "    csv_writer.writerow([\"Word\"])\n",
    "    for word in called_words:\n",
    "        csv_writer.writerow([word])"
   ]
  },
  {
   "attachments": {},
   "cell_type": "markdown",
   "metadata": {},
   "source": [
    "## Write data to a csv file"
   ]
  },
  {
   "cell_type": "code",
   "execution_count": 25,
   "metadata": {},
   "outputs": [
    {
     "name": "stdout",
     "output_type": "stream",
     "text": [
      "Saving progress\n",
      "Progress saved to word_scores.csv\n",
      "Total words in the dictionary: 107649\n"
     ]
    }
   ],
   "source": [
    "print(f\"Saving progress\")\n",
    "save_word_final_scores_to_csv()\n",
    "\n",
    "# Print the count of all words in the dictionary\n",
    "print(f\"Total words in the dictionary: {len(word_final_scores)}\")"
   ]
  },
  {
   "attachments": {},
   "cell_type": "markdown",
   "metadata": {},
   "source": [
    "# Create Word2Vec with Full Sentence Corpus"
   ]
  },
  {
   "attachments": {},
   "cell_type": "markdown",
   "metadata": {},
   "source": [
    "## Get sentence corpus from hugging face"
   ]
  },
  {
   "cell_type": "code",
   "execution_count": 11,
   "metadata": {},
   "outputs": [
    {
     "name": "stderr",
     "output_type": "stream",
     "text": [
      "/Users/skylerestavillo/opt/anaconda3/envs/rizzlite/lib/python3.9/site-packages/tqdm/auto.py:22: TqdmWarning: IProgress not found. Please update jupyter and ipywidgets. See https://ipywidgets.readthedocs.io/en/stable/user_install.html\n",
      "  from .autonotebook import tqdm as notebook_tqdm\n",
      "Found cached dataset generics_kb (/Users/skylerestavillo/.cache/huggingface/datasets/generics_kb/generics_kb_best-13621e76244528a1/1.0.0/86da327cb38f53a3d9258e5b8ebbd7f06c766005cd6cf32e36a7f36e04cdab9c)\n",
      "100%|██████████| 1/1 [00:00<00:00,  1.04it/s]\n"
     ]
    }
   ],
   "source": [
    "from datasets import load_dataset\n",
    "import pandas as pd\n",
    "\n",
    "dataset = load_dataset('generics_kb', 'generics_kb_best', data_dir='/Volumes/YoMama/RizzeratorLite')\n",
    "df_unknown = pd.DataFrame(dataset['train'])\n",
    "#print('Done with df_unknown')\n",
    "#print(df_unknown.head())\n",
    "\n",
    "generic_sentences = df_unknown['generic_sentence'].tolist()\n",
    "#print('Done with generic_sentences')\n",
    "#print(generic_sentences[:5])\n",
    "df_generic = pd.DataFrame({'generic_sentence': generic_sentences})\n",
    "#print('Done with df_generic')\n",
    "#print(df_generic.head())\n",
    "\n",
    "\n",
    "\n",
    "# Define a function to preprocess each sentence\n",
    "def preprocess_sentence(sentence):\n",
    "    # Convert the input to a string and then to lowercase\n",
    "    sentence = str(sentence).lower()\n",
    "    \n",
    "    # Remove words containing numbers from the sentence\n",
    "    sentence = re.sub(r'\\b\\w*\\d\\w*\\b', '', sentence)\n",
    "    \n",
    "    # Break apart contractions using the contractions library\n",
    "    sentence = contractions.fix(sentence)\n",
    "    \n",
    "    # Remove all non-alphabetic characters from the sentence\n",
    "    sentence = re.sub(r'[^a-zA-Z\\s]', '', sentence)\n",
    "    \n",
    "    # Ensure the sentence is returned as a string of words\n",
    "    sentence = ' '.join(sentence.split())\n",
    "    \n",
    "    return sentence\n",
    "\n",
    "# Preprocess each sentence in the 'generic_sentence' column\n",
    "df_generic['generic_sentence'] = df_generic['generic_sentence'].apply(preprocess_sentence)\n",
    "\n",
    "# Print the updated dataframe\n",
    "#print(df_generic.head())\n",
    "\n",
    "# Define a function to tokenize a sentence and return a list of words\n",
    "def tokenize(sentence):\n",
    "    return sentence.split()\n",
    "\n",
    "# Update the total dictionary with all words from all sentences\n",
    "unscored_dictionary = {}\n",
    "for index, row in df_generic.iterrows():\n",
    "    sentence = row['generic_sentence']  # Access the sentence using the column name 'generic_sentence'\n",
    "    words = tokenize(sentence)\n",
    "\n",
    "    for word in words:\n",
    "        if word not in stop_words:\n",
    "            if word not in word_final_scores:\n",
    "                unscored_dictionary[word] = 0\n",
    "\n",
    "\n",
    "\n"
   ]
  },
  {
   "cell_type": "code",
   "execution_count": 12,
   "metadata": {},
   "outputs": [
    {
     "name": "stdout",
     "output_type": "stream",
     "text": [
      "Total words in the dictionary: 37524\n"
     ]
    }
   ],
   "source": [
    "# Print the count of all words in the dictionary\n",
    "print(f\"Total words in the dictionary: {len(unscored_dictionary)}\")"
   ]
  },
  {
   "attachments": {},
   "cell_type": "markdown",
   "metadata": {},
   "source": [
    "## Get sentence corpus from eng_sentences2.csv"
   ]
  },
  {
   "cell_type": "code",
   "execution_count": null,
   "metadata": {},
   "outputs": [],
   "source": [
    "# Read in the full csv file\n",
    "df_sentence = pd.read_csv('eng_sentences2.csv', header = None)\n",
    "\n",
    "# Preprocess each sentence in the 'Sentence' column, but there is no header so use column 2\n",
    "df_sentence[2] = df_sentence[2].apply(preprocess_sentence)\n",
    "\n",
    "# Print the updated dataframe\n",
    "print(df_sentence.head())\n",
    "\n",
    "# Define a function to tokenize a sentence and return a list of words\n",
    "def tokenize(sentence):\n",
    "    return sentence.split()\n",
    "\n",
    "# Update the word_scores dictionary with words and their scores\n",
    "for index, row in df_sentence.iterrows():\n",
    "    sentence = row[2]\n",
    "    score = 0\n",
    "    words = tokenize(sentence)\n",
    "\n",
    "    for word in words:\n",
    "        if word not in stop_words:\n",
    "            if word not in word_final_scores:\n",
    "                if word not in unscored_dictionary:\n",
    "                    unscored_dictionary[word] = 0"
   ]
  },
  {
   "cell_type": "code",
   "execution_count": 14,
   "metadata": {},
   "outputs": [
    {
     "name": "stdout",
     "output_type": "stream",
     "text": [
      "Total words in the unscored dictionary: 47865\n",
      "Total words in the scored dictionary: 74566\n"
     ]
    }
   ],
   "source": [
    "# Print the count of all words in the dictionary\n",
    "print(f\"Total words in the unscored dictionary: {len(unscored_dictionary)}\")\n",
    "print(f\"Total words in the scored dictionary: {len(word_final_scores)}\")"
   ]
  },
  {
   "attachments": {},
   "cell_type": "markdown",
   "metadata": {},
   "source": [
    "## Combine sentences from both dataframes to make a Word2Vec model"
   ]
  },
  {
   "cell_type": "code",
   "execution_count": 15,
   "metadata": {},
   "outputs": [],
   "source": [
    "# Combine the sentences from both dataframes\n",
    "sentences1 = df_generic['generic_sentence'].tolist()\n",
    "sentences2 = df_sentence[2].tolist()\n",
    "all_sentences = sentences1 + sentences2\n",
    "\n",
    "# Tokenize the sentences\n",
    "tokenized_sentences = [tokenize(sentence) for sentence in all_sentences]\n",
    "\n",
    "# Train a Word2Vec model using Gensim\n",
    "from gensim.models import Word2Vec\n",
    "\n",
    "model = Word2Vec(sentences=tokenized_sentences, vector_size=100, window=5, min_count=1, workers=4)\n",
    "\n",
    "# Save the Word2Vec model for future use\n",
    "model.save(\"word2vec.model\")"
   ]
  },
  {
   "cell_type": "code",
   "execution_count": 16,
   "metadata": {},
   "outputs": [
    {
     "name": "stdout",
     "output_type": "stream",
     "text": [
      "Vocabulary size: 115038\n"
     ]
    }
   ],
   "source": [
    "# Get the vocabulary size\n",
    "vocab_size = len(model.wv.key_to_index)\n",
    "print(\"Vocabulary size:\", vocab_size)"
   ]
  },
  {
   "attachments": {},
   "cell_type": "markdown",
   "metadata": {},
   "source": [
    "# Use Word2Vec model to process the unknown dictionary using scored words"
   ]
  },
  {
   "cell_type": "code",
   "execution_count": 21,
   "metadata": {},
   "outputs": [],
   "source": [
    "def wv_k_nearest_neighbors(random_word, k=7):\n",
    "\n",
    "    # Find k nearest neighbors (first_level_neighbors) of the input word\n",
    "    first_level_neighbors = model.wv.most_similar(random_word, topn=k)\n",
    "\n",
    "    # Separate known and unknown first_level_neighbors\n",
    "    known_first_level_neighbors = [word for word, _ in first_level_neighbors if word in word_final_scores]\n",
    "    unknown_first_level_neighbors = [word for word, _ in first_level_neighbors if word not in word_final_scores]\n",
    "\n",
    "    # Check if at least 2 of the first_level_neighbors are known\n",
    "    if len(known_first_level_neighbors) >= 2:\n",
    "        # Compute the average score of the known first_level_neighbors\n",
    "        avg_known_neighbors_score = sum(word_final_scores[word] for word in known_first_level_neighbors) / len(known_first_level_neighbors)\n",
    "\n",
    "        # Assign the average score to the input word and add it to word_final_scores\n",
    "        print(f\"Adding word: {random_word} {avg_known_neighbors_score}\")\n",
    "        word_final_scores[random_word] = avg_known_neighbors_score\n",
    "\n",
    "    # For each unknown first_level_neighbor, find their k nearest neighbors (second_level_neighbors)\n",
    "    for unknown_neighbor in unknown_first_level_neighbors:\n",
    "        second_level_neighbors = model.wv.most_similar(unknown_neighbor, topn=k)\n",
    "\n",
    "        # Calculate the average score of the known second_level_neighbors\n",
    "        known_second_level_neighbors = [word for word, _ in second_level_neighbors if word in word_final_scores]\n",
    "\n",
    "        # If there are at least 2 known second_level_neighbors, assign the average score to the unknown first_level_neighbor\n",
    "        if len(known_second_level_neighbors) >= 2:\n",
    "            avg_known_second_level_neighbors_score = sum(word_final_scores[word] for word in known_second_level_neighbors) / len(known_second_level_neighbors)\n",
    "            print(f\"Adding word: {unknown_neighbor} {avg_known_second_level_neighbors_score}\")\n",
    "            word_final_scores[unknown_neighbor] = avg_known_second_level_neighbors_score\n",
    "\n",
    "    # Recheck if there are now at least 2 known first_level_neighbors\n",
    "    known_first_level_neighbors = [word for word, _ in first_level_neighbors if word in word_final_scores]\n",
    "\n",
    "    if len(known_first_level_neighbors) >= 2:\n",
    "        # Calculate the average score of the known first_level_neighbors\n",
    "        avg_known_neighbors_score = sum(word_final_scores[word] for word in known_first_level_neighbors) / len(known_first_level_neighbors)\n",
    "\n",
    "        # Assign the average score to the input word and add it to word_final_scores\n",
    "        print(f\"Adding word: {random_word} {avg_known_neighbors_score}\")\n",
    "        word_final_scores[random_word] = avg_known_neighbors_score\n",
    "    else:\n",
    "        # Remove the input word from used_words and end the function call to try another word later\n",
    "        print(\"Removing word from used_words\")\n",
    "        used_words.remove(random_word)\n",
    "\n",
    "\n",
    "\n",
    "\n",
    "\n",
    "def wv_random_word_k_nearest_neighbors():\n",
    "    save_interval = 500\n",
    "    iterations = 0\n",
    "\n",
    "    while True:\n",
    "        # Get the list of words found in our clean dictionary that is a non-stop word not in used_words\n",
    "        remaining_words = [word for word in unscored_dictionary.keys() if word not in stop_words and word not in used_words]\n",
    "\n",
    "        # Break the loop if there are no remaining words\n",
    "        if not remaining_words:\n",
    "            print(\"No remaining words\")\n",
    "            break\n",
    "\n",
    "        # Select a random non-stop word from the remaining_words list\n",
    "        random_word = random.choice(remaining_words)\n",
    "        used_words.add(random_word)\n",
    "        print(random_word)\n",
    "\n",
    "        # Check if the random_word is in the word2vec model vocabulary\n",
    "        if random_word in model.wv.key_to_index:\n",
    "            # Call wv_k_nearest with the random word\n",
    "            print(f\"Random word: {random_word}\")\n",
    "            wv_k_nearest_neighbors(random_word)\n",
    "        else:\n",
    "            print(f\"{random_word} not in model vocabulary\")\n",
    "\n",
    "        iterations += 1\n",
    "\n",
    "        # Print the count of all words in the dictionary\n",
    "        print(f\"Total words in the dictionary: {len(word_final_scores)}\")\n",
    "\n",
    "        # Save the results to the CSV file after every save_interval iterations\n",
    "        if iterations % save_interval == 0:\n",
    "            print(f\"Saving progress after {iterations} iterations\")\n",
    "            save_word_final_scores_to_csv()\n",
    "\n",
    "            # Write used_words to CSV file\n",
    "            with open(\"used_words.csv\", \"w\", newline=\"\", encoding=\"utf-8\") as csvfile:\n",
    "                csv_writer = csv.writer(csvfile)\n",
    "                csv_writer.writerow([\"Word\"])\n",
    "                for word in used_words:\n",
    "                    csv_writer.writerow([word])\n",
    "\n",
    "            # Write called_words to CSV file\n",
    "            with open(\"called_words.csv\", \"w\", newline=\"\", encoding=\"utf-8\") as csvfile:\n",
    "                csv_writer = csv.writer(csvfile)\n",
    "                csv_writer.writerow([\"Word\"])\n",
    "                for word in called_words:\n",
    "                    csv_writer.writerow([word])\n",
    "\n",
    "        # Break the loop if you want to stop after a certain number of iterations\n",
    "        if len(used_words) >= 130000:\n",
    "            print(\"Used more than 130k words\")\n",
    "            break\n"
   ]
  },
  {
   "cell_type": "code",
   "execution_count": null,
   "metadata": {},
   "outputs": [],
   "source": [
    "wv_random_word_k_nearest_neighbors()"
   ]
  },
  {
   "cell_type": "code",
   "execution_count": 4,
   "metadata": {},
   "outputs": [
    {
     "data": {
      "image/png": "[encoded data removed]",
      "text/plain": [
       "<Figure size 640x480 with 1 Axes>"
      ]
     },
     "metadata": {},
     "output_type": "display_data"
    }
   ],
   "source": [
    "import matplotlib.pyplot as plt\n",
    "import pandas as pd\n",
    "\n",
    "# Read the CSV file into df\n",
    "file_path = 'FinalDictionary.csv'\n",
    "df = pd.read_csv(file_path)\n",
    "\n",
    "# Read score data\n",
    "scores = df['Score']\n",
    "\n",
    "# Plot the histogram\n",
    "plt.hist(scores, bins= 'auto', alpha = 0.75)\n",
    "plt.xlabel('Score')\n",
    "plt.ylabel('Frequency')\n",
    "plt.title('Distribution of Scores')\n",
    "plt.grid(True)\n",
    "plt.show()"
   ]
  }
 ],
 "metadata": {
  "kernelspec": {
   "display_name": "rizzlite",
   "language": "python",
   "name": "python3"
  },
  "language_info": {
   "codemirror_mode": {
    "name": "ipython",
    "version": 3
   },
   "file_extension": ".py",
   "mimetype": "text/x-python",
   "name": "python",
   "nbconvert_exporter": "python",
   "pygments_lexer": "ipython3",
   "version": "3.9.16"
  },
  "orig_nbformat": 4
 },
 "nbformat": 4,
 "nbformat_minor": 2
}
